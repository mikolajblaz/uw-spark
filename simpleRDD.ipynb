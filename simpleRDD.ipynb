{
 "cells": [
  {
   "cell_type": "code",
   "execution_count": 1,
   "metadata": {
    "collapsed": false
   },
   "outputs": [],
   "source": [
    "import time\n",
    "from pyspark.sql import SparkSession"
   ]
  },
  {
   "cell_type": "code",
   "execution_count": 14,
   "metadata": {
    "collapsed": true
   },
   "outputs": [],
   "source": [
    "file = \"data/test-graph.txt\"\n",
    "max_iter = 100\n",
    "num_partition = 4"
   ]
  },
  {
   "cell_type": "code",
   "execution_count": 3,
   "metadata": {
    "collapsed": false
   },
   "outputs": [
    {
     "data": {
      "text/plain": [
       "16"
      ]
     },
     "execution_count": 3,
     "metadata": {},
     "output_type": "execute_result"
    }
   ],
   "source": [
    "# Load the data\n",
    "textFile = sc.textFile(file)\n",
    "textFile.count()"
   ]
  },
  {
   "cell_type": "code",
   "execution_count": 4,
   "metadata": {
    "collapsed": false
   },
   "outputs": [
    {
     "data": {
      "text/plain": [
       "11"
      ]
     },
     "execution_count": 4,
     "metadata": {},
     "output_type": "execute_result"
    }
   ],
   "source": [
    "dataFile = textFile.filter(lambda l: len(l) > 0 and l[0] != '#')\n",
    "dataFile.count()"
   ]
  },
  {
   "cell_type": "code",
   "execution_count": 17,
   "metadata": {
    "collapsed": false
   },
   "outputs": [],
   "source": [
    "def to_int_tuple(line, delim='\\t'):\n",
    "    strings = line.split(delim)[:2]\n",
    "    return (int(strings[0]), int(strings[1]))\n",
    "    \n",
    "edges = dataFile.map(to_int_tuple)\n",
    "edges.partitionBy(num_partition)\n",
    "edges.setName('Edges')\n",
    "edges.cache()\n",
    "assert edges.filter(lambda t: len(t) == 2).count() == dataFile.count()"
   ]
  },
  {
   "cell_type": "code",
   "execution_count": 18,
   "metadata": {
    "collapsed": false
   },
   "outputs": [
    {
     "name": "stdout",
     "output_type": "stream",
     "text": [
      "###########\n",
      "(3, 5)\n",
      "(0, 2)\n",
      "(4, 6)\n",
      "(6, 10)\n",
      "(1, 3)\n",
      "(9, 6)\n",
      "(5, 7)\n",
      "(5, 8)\n",
      "(5, 9)\n",
      "(10, 7)\n",
      "(10, 8)\n",
      "(10, 9)\n",
      "(2, 4)\n",
      "###########\n",
      "(2, 5)\n",
      "(5, 10)\n",
      "(10, 10)\n",
      "(3, 6)\n",
      "(0, 3)\n",
      "(6, 6)\n",
      "(4, 7)\n",
      "(4, 8)\n",
      "(4, 9)\n",
      "(9, 7)\n",
      "(9, 8)\n",
      "(9, 9)\n",
      "(1, 4)\n",
      "CPU times: user 64 ms, sys: 16 ms, total: 80 ms\n",
      "Wall time: 569 ms\n"
     ]
    }
   ],
   "source": [
    "def switch_key_value(kv):\n",
    "    return (kv[1], kv[0])\n",
    "\n",
    "def compose(r1, r2):\n",
    "    \"\"\" Compose 2 relations represented by PairRDDs. \"\"\"\n",
    "    r1_flip = r1.map(switch_key_value)\n",
    "    joined = r1_flip.join(r2, num_partition)\n",
    "    return joined.values()\n",
    "\n",
    "paths = edges\n",
    "for i in range(2):\n",
    "    print(\"###########\")\n",
    "    paths = compose(paths, edges)\n",
    "    paths.cache()\n",
    "    for p in paths.collect():\n",
    "        print(p)"
   ]
  },
  {
   "cell_type": "code",
   "execution_count": 20,
   "metadata": {
    "collapsed": false
   },
   "outputs": [
    {
     "name": "stdout",
     "output_type": "stream",
     "text": [
      "###########\n",
      "NUM e:  2\n",
      "NUM p:  2\n",
      "NUM e:  2\n",
      "NUM p:  4\n",
      "NUM p:  4\n",
      "NUM a:  2\n",
      "NUM a:  4\n",
      "(5, 9)\n",
      "(4, 6)\n",
      "(10, 8)\n",
      "(2, 4)\n",
      "(0, 2)\n",
      "(10, 7)\n",
      "(9, 6)\n",
      "(1, 3)\n",
      "(5, 7)\n",
      "(6, 10)\n",
      "(3, 5)\n",
      "(5, 8)\n",
      "(10, 9)\n",
      "Time elapsed: 0.594687 sec\n",
      "###########\n",
      "NUM e:  2\n",
      "NUM p:  4\n",
      "NUM e:  2\n",
      "NUM p:  4\n",
      "NUM p:  4\n",
      "NUM a:  4\n",
      "NUM a:  4\n",
      "(9, 9)\n",
      "(4, 9)\n",
      "(5, 10)\n",
      "(4, 8)\n",
      "(6, 6)\n",
      "(10, 10)\n",
      "(9, 7)\n",
      "(4, 7)\n",
      "(1, 4)\n",
      "(3, 6)\n",
      "(9, 8)\n",
      "(2, 5)\n",
      "(0, 3)\n",
      "Time elapsed: 0.903518 sec\n",
      "###########\n",
      "NUM e:  2\n",
      "NUM p:  4\n",
      "NUM e:  2\n",
      "NUM p:  4\n",
      "NUM p:  4\n",
      "NUM a:  4\n",
      "NUM a:  4\n",
      "(1, 5)\n",
      "(4, 10)\n",
      "(3, 7)\n",
      "(3, 8)\n",
      "(2, 6)\n",
      "(3, 9)\n",
      "(0, 4)\n",
      "Time elapsed: 0.882334 sec\n",
      "###########\n",
      "NUM e:  2\n",
      "NUM p:  4\n",
      "NUM e:  2\n",
      "NUM p:  4\n",
      "NUM p:  4\n",
      "NUM a:  4\n",
      "NUM a:  4\n",
      "(2, 8)\n",
      "(2, 7)\n",
      "(0, 5)\n",
      "(1, 6)\n",
      "(2, 9)\n",
      "(3, 10)\n",
      "Time elapsed: 0.953485 sec\n",
      "###########\n",
      "NUM e:  2\n",
      "NUM p:  4\n",
      "NUM e:  2\n",
      "NUM p:  4\n",
      "NUM p:  4\n",
      "NUM a:  4\n",
      "NUM a:  4\n",
      "(0, 6)\n",
      "(1, 9)\n",
      "(1, 7)\n",
      "(2, 10)\n",
      "(1, 8)\n",
      "Time elapsed: 0.929409 sec\n",
      "###########\n",
      "NUM e:  2\n",
      "NUM p:  4\n",
      "NUM e:  2\n",
      "NUM p:  4\n",
      "NUM p:  4\n",
      "NUM a:  4\n",
      "NUM a:  4\n",
      "(1, 10)\n",
      "(0, 9)\n",
      "(0, 8)\n",
      "(0, 7)\n",
      "Time elapsed: 0.941687 sec\n",
      "###########\n",
      "NUM e:  2\n",
      "NUM p:  4\n",
      "NUM e:  2\n",
      "NUM p:  4\n",
      "NUM p:  4\n",
      "NUM a:  4\n",
      "NUM a:  4\n",
      "(0, 10)\n",
      "Time elapsed: 0.952649 sec\n",
      "###########\n",
      "NUM e:  2\n",
      "NUM p:  4\n",
      "NUM e:  2\n",
      "NUM p:  4\n",
      "NUM p:  4\n",
      "$$$$$$$$$$$$$ ALL PATHS $$$$$$$$$$$$$$\n",
      "(0, 1)\n",
      "(4, 5)\n",
      "(4, 6)\n",
      "(0, 2)\n",
      "(4, 9)\n",
      "(4, 8)\n",
      "(4, 7)\n",
      "(0, 3)\n",
      "(4, 10)\n",
      "(0, 4)\n",
      "(0, 5)\n",
      "(0, 6)\n",
      "(0, 9)\n",
      "(0, 8)\n",
      "(0, 7)\n",
      "(0, 10)\n",
      "(1, 2)\n",
      "(5, 6)\n",
      "(9, 10)\n",
      "(5, 9)\n",
      "(9, 6)\n",
      "(1, 3)\n",
      "(5, 7)\n",
      "(5, 8)\n",
      "(9, 9)\n",
      "(5, 10)\n",
      "(9, 7)\n",
      "(1, 4)\n",
      "(9, 8)\n",
      "(1, 5)\n",
      "(1, 6)\n",
      "(1, 9)\n",
      "(1, 7)\n",
      "(1, 8)\n",
      "(1, 10)\n",
      "(2, 3)\n",
      "(6, 7)\n",
      "(6, 8)\n",
      "(6, 9)\n",
      "(10, 6)\n",
      "(10, 8)\n",
      "(2, 4)\n",
      "(10, 7)\n",
      "(6, 10)\n",
      "(10, 9)\n",
      "(6, 6)\n",
      "(10, 10)\n",
      "(2, 5)\n",
      "(2, 6)\n",
      "(2, 8)\n",
      "(2, 7)\n",
      "(2, 9)\n",
      "(2, 10)\n",
      "(3, 4)\n",
      "(3, 5)\n",
      "(3, 6)\n",
      "(3, 7)\n",
      "(3, 8)\n",
      "(3, 9)\n",
      "(3, 10)\n",
      "\n",
      "Time elapsed: 0.985345 sec\n",
      "CPU times: user 716 ms, sys: 56 ms, total: 772 ms\n",
      "Wall time: 7.14 s\n"
     ]
    }
   ],
   "source": [
    "%%time\n",
    "paths = edges\n",
    "all_paths = edges\n",
    "\n",
    "start = time.time()\n",
    "\n",
    "for i in range(max_iter):\n",
    "    print(\"###########\")\n",
    "    print(\"NUM e: \", edges.getNumPartitions())\n",
    "    print(\"NUM p: \", paths.getNumPartitions())\n",
    "    paths = compose(paths, edges)\n",
    "    print(\"NUM e: \", edges.getNumPartitions())\n",
    "    print(\"NUM p: \", paths.getNumPartitions())\n",
    "    paths.cache()\n",
    "    # Leave only new paths\n",
    "    paths = paths.subtract(all_paths, num_partition)\n",
    "    print(\"NUM p: \", paths.getNumPartitions())\n",
    "    # Finish, when no more paths added\n",
    "    if paths.isEmpty():\n",
    "        break\n",
    "    \n",
    "    # Add new paths to all paths\n",
    "    print(\"NUM a: \", all_paths.getNumPartitions())\n",
    "    all_paths = all_paths.union(paths)\n",
    "    all_paths = all_paths.partitionBy(num_partition)\n",
    "    print(\"NUM a: \", all_paths.getNumPartitions())\n",
    "    all_paths.cache()\n",
    "    \n",
    "    for p in paths.collect():\n",
    "        print(p)\n",
    "    end = time.time()\n",
    "    print(\"Time elapsed: %f sec\" % (end - start,))\n",
    "    start = end\n",
    "\n",
    "        \n",
    "print(\"$$$$$$$$$$$$$ ALL PATHS $$$$$$$$$$$$$$\")\n",
    "for p in all_paths.collect():\n",
    "    print(p)\n",
    "    \n",
    "print()\n",
    "end = time.time()\n",
    "print(\"Time elapsed: %f sec\" % (end - start,))    "
   ]
  },
  {
   "cell_type": "code",
   "execution_count": null,
   "metadata": {
    "collapsed": true
   },
   "outputs": [],
   "source": []
  }
 ],
 "metadata": {
  "kernelspec": {
   "display_name": "Python 3",
   "language": "python",
   "name": "python3"
  },
  "language_info": {
   "codemirror_mode": {
    "name": "ipython",
    "version": 3
   },
   "file_extension": ".py",
   "mimetype": "text/x-python",
   "name": "python",
   "nbconvert_exporter": "python",
   "pygments_lexer": "ipython3",
   "version": "3.5.1"
  }
 },
 "nbformat": 4,
 "nbformat_minor": 0
}
