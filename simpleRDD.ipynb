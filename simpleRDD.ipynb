{
 "cells": [
  {
   "cell_type": "code",
   "execution_count": 1,
   "metadata": {
    "collapsed": false
   },
   "outputs": [],
   "source": [
    "import time"
   ]
  },
  {
   "cell_type": "code",
   "execution_count": 2,
   "metadata": {
    "collapsed": true
   },
   "outputs": [],
   "source": [
    "# Config\n",
    "file = \"data/test-graph.txt\"\n",
    "max_iter = 100\n",
    "num_partition = 4\n",
    "debug = False"
   ]
  },
  {
   "cell_type": "code",
   "execution_count": 3,
   "metadata": {
    "collapsed": false
   },
   "outputs": [
    {
     "name": "stdout",
     "output_type": "stream",
     "text": [
      "All lines: 16\n",
      "Correct lines: 11\n"
     ]
    }
   ],
   "source": [
    "# Load the data\n",
    "textFile = sc.textFile(file)\n",
    "print(\"All lines:\", textFile.count())\n",
    "dataFile = textFile.filter(lambda l: len(l) > 0 and l[0] != '#')\n",
    "print(\"Correct lines:\", dataFile.count())"
   ]
  },
  {
   "cell_type": "code",
   "execution_count": 4,
   "metadata": {
    "collapsed": false
   },
   "outputs": [],
   "source": [
    "# Create edges RDD\n",
    "def to_int_tuple(line, delim='\\t'):\n",
    "    strings = line.split(delim)[:2]\n",
    "    return (int(strings[0]), int(strings[1]))\n",
    "    \n",
    "edges = dataFile.map(to_int_tuple)\n",
    "edges.partitionBy(num_partition)\n",
    "edges.cache()\n",
    "\n",
    "# Check that all rows have exactly 2 entries\n",
    "assert edges.filter(lambda t: len(t) == 2).count() == dataFile.count()"
   ]
  },
  {
   "cell_type": "code",
   "execution_count": 5,
   "metadata": {
    "collapsed": false
   },
   "outputs": [],
   "source": [
    "# Helper functions\n",
    "def switch_key_value(kv):\n",
    "    \" Switch key with value. \"\n",
    "    return (kv[1], kv[0])\n",
    "\n",
    "def compose(r1, r2):\n",
    "    \"\"\" Compose 2 relations represented by PairRDDs. \"\"\"\n",
    "    r1_flip = r1.map(switch_key_value)\n",
    "    # The key is now the intermediate node\n",
    "    joined = r1_flip.join(r2, num_partition)\n",
    "    return joined.values()"
   ]
  },
  {
   "cell_type": "code",
   "execution_count": 6,
   "metadata": {
    "collapsed": false
   },
   "outputs": [
    {
     "name": "stdout",
     "output_type": "stream",
     "text": [
      "############# RDD: method 1 (single steps) ###############\n",
      "________________________________\n",
      "Iteration #1:\n",
      "Number of new paths: 13\n",
      "\n",
      "[(5, 9), (10, 8), (2, 4), (4, 6), (0, 2), (10, 7), (9, 6), (6, 10), (1, 3), (3, 5), (5, 7), (10, 9), (5, 8)] \n",
      "\n",
      "Iteration time: 1.484113 s.\n",
      "________________________________\n",
      "Iteration #2:\n",
      "Number of new paths: 13\n",
      "\n",
      "[(9, 9), (4, 9), (5, 10), (4, 8), (9, 7), (10, 10), (6, 6), (4, 7), (1, 4), (3, 6), (2, 5), (9, 8), (0, 3)] \n",
      "\n",
      "Iteration time: 1.888705 s.\n",
      "________________________________\n",
      "Iteration #3:\n",
      "Number of new paths: 7\n",
      "\n",
      "[(1, 5), (3, 7), (4, 10), (3, 8), (2, 6), (3, 9), (0, 4)] \n",
      "\n",
      "Iteration time: 1.675526 s.\n",
      "________________________________\n",
      "Iteration #4:\n",
      "Number of new paths: 6\n",
      "\n",
      "[(2, 8), (2, 7), (1, 6), (0, 5), (3, 10), (2, 9)] \n",
      "\n",
      "Iteration time: 1.308889 s.\n",
      "________________________________\n",
      "Iteration #5:\n",
      "Number of new paths: 5\n",
      "\n",
      "[(0, 6), (1, 9), (1, 7), (2, 10), (1, 8)] \n",
      "\n",
      "Iteration time: 1.349782 s.\n",
      "________________________________\n",
      "Iteration #6:\n",
      "Number of new paths: 4\n",
      "\n",
      "[(0, 9), (1, 10), (0, 8), (0, 7)] \n",
      "\n",
      "Iteration time: 1.428462 s.\n",
      "________________________________\n",
      "Iteration #7:\n",
      "Number of new paths: 1\n",
      "\n",
      "[(0, 10)] \n",
      "\n",
      "Iteration time: 1.449540 s.\n",
      "________________________________\n",
      "Iteration #8:\n",
      "Number of new paths: 0\n",
      "\n",
      "No new paths, finishing...\n",
      "\n",
      "\n",
      "________________________________\n",
      "Total paths found: 60\n",
      "Number of iterations: #8\n",
      "\n",
      "[(0, 1), (4, 5), (4, 6), (0, 2), (4, 9), (4, 8), (4, 7), (0, 3), (4, 10), (0, 4), (0, 5), (0, 6), (0, 9), (0, 8), (0, 7), (0, 10), (1, 2), (5, 6), (9, 10), (5, 9), (9, 6), (1, 3), (5, 7), (5, 8), (9, 9), (5, 10), (9, 7), (1, 4), (9, 8), (1, 5), (1, 6), (1, 9), (1, 7), (1, 8), (1, 10), (2, 3), (6, 7), (6, 8), (6, 9), (10, 6), (10, 8), (2, 4), (10, 7), (6, 10), (10, 9), (10, 10), (6, 6), (2, 5), (2, 6), (2, 8), (2, 7), (2, 9), (2, 10), (3, 4), (3, 5), (3, 6), (3, 7), (3, 8), (3, 9), (3, 10)] \n",
      "\n",
      "\n",
      "Collecting time: 1.674181 s.\n",
      "Total time elapsed: 12.259199 s.\n",
      "________________________________\n",
      "\n",
      "\n"
     ]
    }
   ],
   "source": [
    "print(\"############# RDD: method 1 (single steps) ###############\")\n",
    "new_paths = edges\n",
    "all_paths = edges\n",
    "\n",
    "start = time.time()\n",
    "true_start = start\n",
    "\n",
    "# invariant:\n",
    "###  - all_paths and new_paths are on 'num_partitions' partitions\n",
    "\n",
    "for i in range(1, max_iter):\n",
    "    print(\"________________________________\")\n",
    "    print(\"Iteration #%d:\" % (i,))\n",
    "    new_paths = compose(new_paths, edges)\n",
    "    # Leave only really new paths\n",
    "    new_paths = new_paths.subtract(all_paths).distinct(num_partition)\n",
    "    new_paths.cache()\n",
    "    print(\"Number of new paths: %d\\n\" % (new_paths.count(),))\n",
    "    \n",
    "    # Add new paths to all paths\n",
    "    all_paths = all_paths.union(new_paths).coalesce(num_partition)\n",
    "    all_paths.cache()\n",
    "    \n",
    "    if debug:\n",
    "        print(new_paths.take(1000), '\\n')\n",
    "        \n",
    "    end = time.time()\n",
    "    print(\"Iteration time: %f s.\" % (end - start,))\n",
    "    start = end\n",
    "    \n",
    "    # Finish, when no more paths added\n",
    "    if new_paths.isEmpty():\n",
    "        print(\"No new paths, finishing...\")\n",
    "        break\n",
    "\n",
    "print(\"\\n\\n________________________________\")\n",
    "print(\"Total paths found: %d\" % (all_paths.count(),))\n",
    "print(\"Number of iterations: #%d\" % (i,))\n",
    "\n",
    "if debug:\n",
    "    print()\n",
    "    print(all_paths.take(1000), '\\n')\n",
    "\n",
    "true_end = time.time()\n",
    "method1_time = true_end - true_start\n",
    "print(\"\\nCollecting time: %f s.\" % (true_end - start,))\n",
    "print(\"Total time elapsed: %f s.\" % (method1_time,))\n",
    "print(\"________________________________\\n\\n\")"
   ]
  },
  {
   "cell_type": "code",
   "execution_count": 7,
   "metadata": {
    "collapsed": false
   },
   "outputs": [
    {
     "name": "stdout",
     "output_type": "stream",
     "text": [
      "############# RDD: method 2 (paths combining) ###############\n",
      "________________________________\n",
      "Iteration #1:\n",
      "Number of new paths: 13\n",
      "\n",
      "[(5, 9), (10, 8), (2, 4), (4, 6), (0, 2), (10, 7), (9, 6), (6, 10), (1, 3), (3, 5), (5, 7), (10, 9), (5, 8)] \n",
      "\n",
      "Iteration time: 0.900975 s.\n",
      "________________________________\n",
      "Iteration #2:\n",
      "Number of new paths: 20\n",
      "\n",
      "[(3, 7), (9, 9), (1, 5), (4, 10), (3, 8), (5, 10), (4, 9), (2, 6), (6, 6), (0, 4), (3, 9), (4, 8), (10, 10), (9, 7), (4, 7), (1, 4), (3, 6), (2, 5), (9, 8), (0, 3)] \n",
      "\n",
      "Iteration time: 1.173899 s.\n",
      "________________________________\n",
      "Iteration #3:\n",
      "Number of new paths: 16\n",
      "\n",
      "[(0, 6), (0, 10), (1, 9), (2, 8), (2, 7), (0, 9), (1, 10), (0, 5), (1, 6), (0, 8), (2, 10), (1, 7), (1, 8), (3, 10), (0, 7), (2, 9)] \n",
      "\n",
      "Iteration time: 1.442550 s.\n",
      "________________________________\n",
      "Iteration #4:\n",
      "Number of new paths: 0\n",
      "\n",
      "No new paths, finishing...\n",
      "\n",
      "\n",
      "________________________________\n",
      "Total paths found: 60\n",
      "Number of iterations: #4\n",
      "\n",
      "[(0, 1), (4, 5), (4, 6), (0, 2), (4, 10), (4, 9), (0, 4), (4, 8), (4, 7), (0, 3), (0, 6), (0, 10), (0, 9), (0, 5), (0, 8), (0, 7), (1, 2), (5, 6), (9, 10), (5, 9), (9, 6), (1, 3), (5, 7), (5, 8), (9, 9), (1, 5), (5, 10), (9, 7), (1, 4), (9, 8), (1, 9), (1, 10), (1, 6), (1, 7), (1, 8), (2, 3), (6, 7), (6, 8), (6, 9), (10, 6), (10, 8), (2, 4), (10, 7), (6, 10), (10, 9), (2, 6), (6, 6), (10, 10), (2, 5), (2, 8), (2, 7), (2, 10), (2, 9), (3, 4), (3, 5), (3, 7), (3, 8), (3, 9), (3, 6), (3, 10)] \n",
      "\n",
      "\n",
      "Collecting time: 1.629143 s.\n",
      "Total time elapsed: 5.146566 s.\n",
      "________________________________\n",
      "\n",
      "\n"
     ]
    }
   ],
   "source": [
    "print(\"############# RDD: method 2 (paths combining) ###############\")\n",
    "new_paths = edges\n",
    "all_paths = edges\n",
    "\n",
    "start = time.time()\n",
    "true_start = start\n",
    "\n",
    "# invariant:\n",
    "###  - all_paths and new_paths are on 'num_partitions' partitions\n",
    "\n",
    "for i in range(1, max_iter):\n",
    "    print(\"________________________________\")\n",
    "    print(\"Iteration #%d:\" % (i,))\n",
    "    new_paths = compose(all_paths, all_paths)\n",
    "    # Leave only really new paths\n",
    "    new_paths = new_paths.subtract(all_paths).distinct(num_partition)\n",
    "    new_paths.cache()\n",
    "    print(\"Number of new paths: %d\\n\" % (new_paths.count(),))\n",
    "    \n",
    "    # Add new paths to all paths\n",
    "    all_paths = all_paths.union(new_paths).coalesce(num_partition)\n",
    "    all_paths.cache()\n",
    "    \n",
    "    if debug:\n",
    "        print(new_paths.take(1000), '\\n')\n",
    "        \n",
    "    end = time.time()\n",
    "    print(\"Iteration time: %f s.\" % (end - start,))\n",
    "    start = end\n",
    "        \n",
    "    # Finish, when no more paths added\n",
    "    if new_paths.isEmpty():\n",
    "        print(\"No new paths, finishing...\")\n",
    "        break\n",
    "        \n",
    "\n",
    "print(\"\\n\\n________________________________\")\n",
    "print(\"Total paths found: %d\" % (all_paths.count(),))\n",
    "print(\"Number of iterations: #%d\" % (i,))\n",
    "\n",
    "if debug:\n",
    "    print()\n",
    "    print(all_paths.take(1000), '\\n')\n",
    "\n",
    "true_end = time.time()\n",
    "method2_time = true_end - true_start\n",
    "print(\"\\nCollecting time: %f s.\" % (true_end - start,))\n",
    "print(\"Total time elapsed: %f s.\" % (method2_time,))\n",
    "print(\"________________________________\\n\\n\")"
   ]
  },
  {
   "cell_type": "code",
   "execution_count": 8,
   "metadata": {
    "collapsed": false
   },
   "outputs": [
    {
     "name": "stdout",
     "output_type": "stream",
     "text": [
      "############# RDD: method 3 (paths combining 'optimized') ###############\n",
      "________________________________\n",
      "Iteration #2:\n",
      "Number of new paths: 20\n",
      "\n",
      "[(3, 7), (9, 9), (1, 5), (4, 10), (3, 8), (5, 10), (4, 9), (4, 8), (2, 6), (0, 4), (3, 9), (6, 6), (9, 7), (10, 10), (4, 7), (1, 4), (3, 6), (2, 5), (9, 8), (0, 3)] \n",
      "\n",
      "Iteration time: 2.943943 s.\n",
      "________________________________\n",
      "Iteration #3:\n",
      "Number of new paths: 16\n",
      "\n",
      "[(2, 8), (0, 6), (0, 10), (1, 9), (1, 10), (0, 9), (1, 6), (0, 5), (2, 7), (0, 8), (2, 10), (1, 7), (3, 10), (0, 7), (1, 8), (2, 9)] \n",
      "\n",
      "Iteration time: 2.569460 s.\n",
      "________________________________\n",
      "Iteration #4:\n",
      "Number of new paths: 0\n",
      "\n",
      "No new paths, finishing...\n",
      "\n",
      "\n",
      "________________________________\n",
      "Total paths found: 60\n",
      "Number of iterations: #4\n",
      "\n",
      "[(0, 1), (4, 5), (4, 6), (0, 2), (4, 10), (4, 9), (4, 8), (0, 4), (4, 7), (0, 3), (0, 6), (0, 10), (0, 9), (0, 5), (0, 8), (0, 7), (1, 2), (5, 6), (9, 10), (5, 9), (9, 6), (1, 3), (5, 7), (5, 8), (9, 9), (1, 5), (5, 10), (9, 7), (1, 4), (9, 8), (1, 9), (1, 10), (1, 6), (1, 7), (1, 8), (2, 3), (6, 7), (6, 8), (6, 9), (10, 6), (10, 8), (2, 4), (10, 7), (6, 10), (10, 9), (2, 6), (6, 6), (10, 10), (2, 5), (2, 8), (2, 7), (2, 10), (2, 9), (3, 4), (3, 5), (3, 7), (3, 8), (3, 9), (3, 6), (3, 10)] \n",
      "\n",
      "\n",
      "Collecting time: 2.308706 s.\n",
      "Total time elapsed: 7.822109 s.\n",
      "________________________________\n",
      "\n",
      "\n"
     ]
    }
   ],
   "source": [
    "print(\"############# RDD: method 3 (paths combining 'optimized') ###############\")\n",
    "\n",
    "start = time.time()\n",
    "true_start = start\n",
    "\n",
    "all_paths = edges\n",
    "new_paths = compose(edges, edges)\n",
    "new_paths = new_paths.subtract(all_paths).distinct(num_partition)\n",
    "# invariant:\n",
    "###  - all_paths and new_paths are disjoint\n",
    "###  - all_paths and new_paths are on 'num_partitions' partitions\n",
    "\n",
    "for i in range(2, max_iter):\n",
    "    print(\"________________________________\")\n",
    "    print(\"Iteration #%d:\" % (i,))\n",
    "    # Obtain new paths by composing old ones\n",
    "    all_x_new_paths = compose(all_paths, new_paths)\n",
    "    new_x_all_paths = compose(new_paths, all_paths)\n",
    "    new_x_new_paths = compose(new_paths, new_paths)\n",
    "    # Leave only really new paths\n",
    "    all_paths = all_paths.union(new_paths).coalesce(num_partition)\n",
    "    all_paths.cache()\n",
    "    new_paths = all_x_new_paths.union(new_x_all_paths).union(new_x_new_paths)\n",
    "    new_paths = new_paths.subtract(all_paths).distinct(num_partition)\n",
    "    new_paths.cache()\n",
    "    print(\"Number of new paths: %d\\n\" % (new_paths.count(),))\n",
    "    \n",
    "    if debug:\n",
    "        print(new_paths.take(1000), '\\n')\n",
    "        \n",
    "    end = time.time()\n",
    "    print(\"Iteration time: %f s.\" % (end - start,))\n",
    "    start = end\n",
    "    \n",
    "    # Finish, when no more paths added\n",
    "    if new_paths.isEmpty():\n",
    "        print(\"No new paths, finishing...\")\n",
    "        break\n",
    "        \n",
    "\n",
    "print(\"\\n\\n________________________________\")\n",
    "print(\"Total paths found: %d\" % (all_paths.count(),))\n",
    "print(\"Number of iterations: #%d\" % (i,))\n",
    "\n",
    "if debug:\n",
    "    print()\n",
    "    print(all_paths.take(1000), '\\n')\n",
    "\n",
    "true_end = time.time()\n",
    "method3_time = true_end - true_start\n",
    "print(\"\\nCollecting time: %f s.\" % (true_end - start,))\n",
    "print(\"Total time elapsed: %f s.\" % (method3_time,))\n",
    "print(\"________________________________\\n\\n\")"
   ]
  },
  {
   "cell_type": "code",
   "execution_count": 10,
   "metadata": {
    "collapsed": false
   },
   "outputs": [
    {
     "name": "stdout",
     "output_type": "stream",
     "text": [
      "########### Summary ############\n",
      "Method 1: 12.259199 s.\n",
      "Method 2: 5.146566 s.\n",
      "Method 3: 7.822109 s.\n"
     ]
    }
   ],
   "source": [
    "print(\"########### Summary ############\")\n",
    "print(\"Method 1: %f s.\" % (method1_time,))\n",
    "print(\"Method 2: %f s.\" % (method2_time,))\n",
    "print(\"Method 3: %f s.\" % (method3_time,))"
   ]
  },
  {
   "cell_type": "code",
   "execution_count": null,
   "metadata": {
    "collapsed": true
   },
   "outputs": [],
   "source": []
  }
 ],
 "metadata": {
  "kernelspec": {
   "display_name": "Python 3",
   "language": "python",
   "name": "python3"
  },
  "language_info": {
   "codemirror_mode": {
    "name": "ipython",
    "version": 3
   },
   "file_extension": ".py",
   "mimetype": "text/x-python",
   "name": "python",
   "nbconvert_exporter": "python",
   "pygments_lexer": "ipython3",
   "version": "3.5.1"
  }
 },
 "nbformat": 4,
 "nbformat_minor": 0
}
