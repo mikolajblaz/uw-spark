{
 "cells": [
  {
   "cell_type": "code",
   "execution_count": null,
   "metadata": {
    "collapsed": false
   },
   "outputs": [],
   "source": [
    "import time"
   ]
  },
  {
   "cell_type": "code",
   "execution_count": null,
   "metadata": {
    "collapsed": true
   },
   "outputs": [],
   "source": [
    "# Config\n",
    "file = \"data/p2p-Gnutella05_10000.txt\"\n",
    "max_iter = 100\n",
    "num_partition = 2\n",
    "debug = False"
   ]
  },
  {
   "cell_type": "code",
   "execution_count": null,
   "metadata": {
    "collapsed": false
   },
   "outputs": [],
   "source": [
    "# Load the data\n",
    "textFile = sc.textFile(file)\n",
    "print(\"All lines:\", textFile.count())\n",
    "dataFile = textFile.filter(lambda l: len(l) > 0 and l[0] != '#')\n",
    "print(\"Correct lines:\", dataFile.count())"
   ]
  },
  {
   "cell_type": "code",
   "execution_count": null,
   "metadata": {
    "collapsed": false
   },
   "outputs": [],
   "source": [
    "# Create edges RDD\n",
    "def to_int_tuple(line, delim='\\t'):\n",
    "    strings = line.split(delim)[:2]\n",
    "    return (int(strings[0]), int(strings[1]))\n",
    "    \n",
    "edges = dataFile.map(to_int_tuple)\n",
    "edges.partitionBy(num_partition)\n",
    "edges.cache()\n",
    "\n",
    "# Check that all rows have exactly 2 entries\n",
    "assert edges.filter(lambda t: len(t) == 2).count() == dataFile.count()"
   ]
  },
  {
   "cell_type": "code",
   "execution_count": null,
   "metadata": {
    "collapsed": false
   },
   "outputs": [],
   "source": [
    "# Helper functions\n",
    "def switch_key_value(kv):\n",
    "    \" Switch key with value. \"\n",
    "    return (kv[1], kv[0])\n",
    "\n",
    "def compose(r1, r2):\n",
    "    \"\"\" Compose 2 relations represented by PairRDDs. \"\"\"\n",
    "    r1_flip = r1.map(switch_key_value)\n",
    "    # The key is now the intermediate node\n",
    "    joined = r1_flip.join(r2, num_partition)\n",
    "    return joined.values()"
   ]
  },
  {
   "cell_type": "code",
   "execution_count": null,
   "metadata": {
    "collapsed": false
   },
   "outputs": [],
   "source": [
    "print(\"############# RDD: method 1 (single steps) ###############\")\n",
    "new_paths = edges\n",
    "all_paths = edges\n",
    "\n",
    "start = time.time()\n",
    "true_start = start\n",
    "\n",
    "# invariant:\n",
    "###  - all_paths and new_paths are on 'num_partitions' partitions\n",
    "\n",
    "last_count = all_paths.count()\n",
    "\n",
    "for i in range(1, max_iter):\n",
    "    print(\"________________________________\")\n",
    "    print(\"Iteration #%d:\" % (i,))\n",
    "    new_paths = compose(new_paths, edges)\n",
    "    # Leave only really new paths\n",
    "    all_paths = all_paths.union(new_paths).distinct()\n",
    "    \n",
    "    count = all_paths.count()\n",
    "    diff_count = count - last_count\n",
    "    last_count = count\n",
    "    print(\"Number of new paths: %d\\n\" % (diff_count,))\n",
    "    \n",
    "    if debug:\n",
    "        print(new_paths.take(1000), '\\n')\n",
    "        \n",
    "    end = time.time()\n",
    "    print(\"Iteration time: %f s.\" % (end - start,))\n",
    "    start = end\n",
    "    \n",
    "    # Finish, when no more paths added\n",
    "    if diff_count == 0:\n",
    "        print(\"No new paths, finishing...\")\n",
    "        break\n",
    "\n",
    "print(\"\\n\\n________________________________\")\n",
    "print(\"Total paths found: %d\" % (count,))\n",
    "print(\"Number of iterations: #%d\" % (i,))\n",
    "\n",
    "if debug:\n",
    "    print()\n",
    "    print(all_paths.take(1000), '\\n')\n",
    "\n",
    "true_end = time.time()\n",
    "method1_time = true_end - true_start\n",
    "print(\"\\nCollecting time: %f s.\" % (true_end - start,))\n",
    "print(\"Total time elapsed: %f s.\" % (method1_time,))\n",
    "print(\"________________________________\\n\\n\")"
   ]
  },
  {
   "cell_type": "code",
   "execution_count": null,
   "metadata": {
    "collapsed": false
   },
   "outputs": [],
   "source": [
    "print(\"############# RDD: method 2 (paths combining) ###############\")\n",
    "new_paths = edges\n",
    "all_paths = edges\n",
    "\n",
    "start = time.time()\n",
    "true_start = start\n",
    "\n",
    "# invariant:\n",
    "###  - all_paths and new_paths are on 'num_partitions' partitions\n",
    "\n",
    "last_count = all_paths.count()\n",
    "\n",
    "for i in range(1, max_iter):\n",
    "    print(\"________________________________\")\n",
    "    print(\"Iteration #%d:\" % (i,))\n",
    "    new_paths = compose(all_paths, all_paths)\n",
    "    # Leave only really new paths\n",
    "    all_paths = all_paths.union(new_paths).distinct()\n",
    "    \n",
    "    count = all_paths.count()\n",
    "    diff_count = count - last_count\n",
    "    last_count = count\n",
    "    \n",
    "    print(\"NUM a:\", all_paths.getNumPartitions())\n",
    "    \n",
    "    print(\"Number of new paths: %d\\n\" % (diff_count,))\n",
    "    \n",
    "    if debug:\n",
    "        print(new_paths.take(1000), '\\n')\n",
    "        \n",
    "    end = time.time()\n",
    "    print(\"Iteration time: %f s.\" % (end - start,))\n",
    "    start = end\n",
    "    \n",
    "    # Finish, when no more paths added\n",
    "    if diff_count == 0:\n",
    "        print(\"No new paths, finishing...\")\n",
    "        break\n",
    "        \n",
    "\n",
    "print(\"\\n\\n________________________________\")\n",
    "print(\"Total paths found: %d\" % (all_paths.count(),))\n",
    "print(\"Number of iterations: #%d\" % (i,))\n",
    "\n",
    "if debug:\n",
    "    print()\n",
    "    print(all_paths.take(1000), '\\n')\n",
    "\n",
    "true_end = time.time()\n",
    "method2_time = true_end - true_start\n",
    "print(\"\\nCollecting time: %f s.\" % (true_end - start,))\n",
    "print(\"Total time elapsed: %f s.\" % (method2_time,))\n",
    "print(\"________________________________\\n\\n\")"
   ]
  },
  {
   "cell_type": "code",
   "execution_count": null,
   "metadata": {
    "collapsed": false
   },
   "outputs": [],
   "source": [
    "print(\"########### Summary ############\")\n",
    "print(\"Method 1: %f s.\" % (method1_time,))\n",
    "print(\"Method 2: %f s.\" % (method2_time,))"
   ]
  },
  {
   "cell_type": "code",
   "execution_count": null,
   "metadata": {
    "collapsed": true
   },
   "outputs": [],
   "source": []
  }
 ],
 "metadata": {
  "kernelspec": {
   "display_name": "Python 3",
   "language": "python",
   "name": "python3"
  },
  "language_info": {
   "codemirror_mode": {
    "name": "ipython",
    "version": 3
   },
   "file_extension": ".py",
   "mimetype": "text/x-python",
   "name": "python",
   "nbconvert_exporter": "python",
   "pygments_lexer": "ipython3",
   "version": "3.5.1"
  }
 },
 "nbformat": 4,
 "nbformat_minor": 0
}
