{
 "cells": [
  {
   "cell_type": "code",
   "execution_count": null,
   "metadata": {
    "collapsed": false
   },
   "outputs": [],
   "source": [
    "import time\n",
    "from pyspark.sql import SparkSession"
   ]
  },
  {
   "cell_type": "code",
   "execution_count": null,
   "metadata": {
    "collapsed": true
   },
   "outputs": [],
   "source": [
    "# Config\n",
    "file = \"data/test-graph.txt\"\n",
    "max_iter = 100\n",
    "num_partition = 4\n",
    "debug = False"
   ]
  },
  {
   "cell_type": "code",
   "execution_count": null,
   "metadata": {
    "collapsed": false
   },
   "outputs": [],
   "source": [
    "# Load the data\n",
    "textFile = sc.textFile(file)\n",
    "print(\"All lines:\", textFile.count())\n",
    "dataFile = textFile.filter(lambda l: len(l) > 0 and l[0] != '#')\n",
    "print(\"Correct lines:\", dataFile.count())"
   ]
  },
  {
   "cell_type": "code",
   "execution_count": null,
   "metadata": {
    "collapsed": false
   },
   "outputs": [],
   "source": [
    "# Create edges RDD\n",
    "def to_int_tuple(line, delim='\\t'):\n",
    "    strings = line.split(delim)[:2]\n",
    "    return (int(strings[0]), int(strings[1]))\n",
    "    \n",
    "edges = dataFile.map(to_int_tuple)\n",
    "edges.partitionBy(num_partition)\n",
    "edges.cache()\n",
    "\n",
    "# Check that all rows have exactly 2 entries\n",
    "assert edges.filter(lambda t: len(t) == 2).count() == dataFile.count()"
   ]
  },
  {
   "cell_type": "code",
   "execution_count": null,
   "metadata": {
    "collapsed": false
   },
   "outputs": [],
   "source": [
    "# Helper functions\n",
    "def switch_key_value(kv):\n",
    "    \" Switch key with value. \"\n",
    "    return (kv[1], kv[0])\n",
    "\n",
    "def compose(r1, r2):\n",
    "    \"\"\" Compose 2 relations represented by PairRDDs. \"\"\"\n",
    "    r1_flip = r1.map(switch_key_value)\n",
    "    # The key is now the intermediate node\n",
    "    joined = r1_flip.join(r2, num_partition)\n",
    "    return joined.values()"
   ]
  },
  {
   "cell_type": "code",
   "execution_count": null,
   "metadata": {
    "collapsed": false
   },
   "outputs": [],
   "source": [
    "paths = edges\n",
    "all_paths = edges\n",
    "\n",
    "start = time.time()\n",
    "true_start = start\n",
    "\n",
    "for i in range(1, max_iter):\n",
    "    print(\"________________________________\")\n",
    "    print(\"Iteration #%d:\" % (i,))\n",
    "    paths = compose(paths, edges)\n",
    "    # Leave only new paths\n",
    "    paths = paths.subtract(all_paths, num_partition)\n",
    "    paths.cache()\n",
    "    print(\"Number of new paths: %d\\n\" % (paths.count(),))\n",
    "    \n",
    "    # Finish, when no more paths added\n",
    "    if paths.isEmpty():\n",
    "        print(\"No new paths, finishing...\")\n",
    "        break\n",
    "    \n",
    "    # Add new paths to all paths\n",
    "    all_paths = all_paths.union(paths).partitionBy(num_partition)\n",
    "    all_paths.cache()\n",
    "    \n",
    "    if debug:\n",
    "        for p in paths.collect():\n",
    "            print(p)\n",
    "        print()\n",
    "        \n",
    "    end = time.time()\n",
    "    print(\"Iteration time: %f s.\" % (end - start,))\n",
    "    start = end\n",
    "\n",
    "print(\"\\n\\n________________________________\")\n",
    "print(\"Total paths found: %d\" % (all_paths.count(),))\n",
    "print(\"Number of iterations: #%d\" % (i + 1,))\n",
    "\n",
    "if debug:\n",
    "    print()\n",
    "    for p in all_paths.collect():\n",
    "        print(p)\n",
    "    print()\n",
    "\n",
    "true_end = time.time()\n",
    "print(\"\\nCollecting time: %f s.\" % (true_end - start,))\n",
    "print(\"Total time elapsed: %f s.\" % (true_end - true_start,))\n",
    "print(\"________________________________\\n\\n\")"
   ]
  },
  {
   "cell_type": "code",
   "execution_count": null,
   "metadata": {
    "collapsed": true
   },
   "outputs": [],
   "source": []
  }
 ],
 "metadata": {
  "kernelspec": {
   "display_name": "Python 3",
   "language": "python",
   "name": "python3"
  },
  "language_info": {
   "codemirror_mode": {
    "name": "ipython",
    "version": 3
   },
   "file_extension": ".py",
   "mimetype": "text/x-python",
   "name": "python",
   "nbconvert_exporter": "python",
   "pygments_lexer": "ipython3",
   "version": "3.5.1"
  }
 },
 "nbformat": 4,
 "nbformat_minor": 0
}
