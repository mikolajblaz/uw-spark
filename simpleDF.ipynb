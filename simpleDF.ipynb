{
 "cells": [
  {
   "cell_type": "code",
   "execution_count": 2,
   "metadata": {
    "collapsed": false
   },
   "outputs": [],
   "source": [
    "import time\n",
    "from pyspark.sql.functions import *"
   ]
  },
  {
   "cell_type": "code",
   "execution_count": 3,
   "metadata": {
    "collapsed": true
   },
   "outputs": [],
   "source": [
    "# Config\n",
    "file = \"final/data/test-graph.txt\"\n",
    "max_iter = 100\n",
    "num_partition = 2\n",
    "debug = False"
   ]
  },
  {
   "cell_type": "code",
   "execution_count": 4,
   "metadata": {
    "collapsed": false
   },
   "outputs": [
    {
     "name": "stdout",
     "output_type": "stream",
     "text": [
      "All lines: 16\n",
      "Correct lines: 11\n"
     ]
    }
   ],
   "source": [
    "# Load the data\n",
    "textFile = sc.textFile(file)\n",
    "print(\"All lines:\", textFile.count())\n",
    "dataFile = textFile.filter(lambda l: len(l) > 0 and l[0] != '#')\n",
    "print(\"Correct lines:\", dataFile.count())"
   ]
  },
  {
   "cell_type": "code",
   "execution_count": 5,
   "metadata": {
    "collapsed": false
   },
   "outputs": [],
   "source": [
    "# Create edges RDD\n",
    "def to_int_tuple(line, delim='\\t'):\n",
    "    strings = line.split(delim)[:2]\n",
    "    return (int(strings[0]), int(strings[1]))\n",
    "    \n",
    "edgesRDD = dataFile.map(to_int_tuple)\n",
    "edgesRDD.partitionBy(num_partition)\n",
    "edgesRDD.cache()\n",
    "\n",
    "# Check that all rows have exactly 2 entries\n",
    "assert edgesRDD.filter(lambda t: len(t) == 2).count() == dataFile.count()"
   ]
  },
  {
   "cell_type": "code",
   "execution_count": 6,
   "metadata": {
    "collapsed": false
   },
   "outputs": [
    {
     "data": {
      "text/plain": [
       "DataFrame[fro: bigint, to: bigint]"
      ]
     },
     "execution_count": 6,
     "metadata": {},
     "output_type": "execute_result"
    }
   ],
   "source": [
    "edges = edgesRDD.toDF([\"fro\", \"to\"])\n",
    "edges.cache()"
   ]
  },
  {
   "cell_type": "code",
   "execution_count": 7,
   "metadata": {
    "collapsed": false
   },
   "outputs": [],
   "source": [
    "def compose(df1, df2):\n",
    "    \"\"\" Compose 2 relations represented by PairRDDs. \"\"\"\n",
    "    r1 = df1.alias('r1')\n",
    "    r2 = df2.alias('r2')\n",
    "    return r1.join(r2, col('r1.to') == col('r2.fro')).drop(col('r1.to')).drop(col('r2.fro'))"
   ]
  },
  {
   "cell_type": "code",
   "execution_count": 9,
   "metadata": {
    "collapsed": false
   },
   "outputs": [
    {
     "name": "stdout",
     "output_type": "stream",
     "text": [
      "############# RDD: method 1 (single steps) ###############\n",
      "________________________________\n",
      "Iteration #1:\n",
      "Number of new paths: 13\n",
      "\n",
      "Iteration time: 0.611742 s.\n",
      "________________________________\n",
      "Iteration #2:\n",
      "Number of new paths: 13\n",
      "\n",
      "Iteration time: 1.938486 s.\n",
      "________________________________\n",
      "Iteration #3:\n",
      "Number of new paths: 7\n",
      "\n",
      "Iteration time: 3.846156 s.\n",
      "________________________________\n",
      "Iteration #4:\n",
      "Number of new paths: 6\n",
      "\n",
      "Iteration time: 6.230818 s.\n",
      "________________________________\n",
      "Iteration #5:\n",
      "Number of new paths: 5\n",
      "\n",
      "Iteration time: 7.955049 s.\n",
      "________________________________\n",
      "Iteration #6:\n",
      "Number of new paths: 4\n",
      "\n",
      "Iteration time: 11.401214 s.\n",
      "________________________________\n",
      "Iteration #7:\n",
      "Number of new paths: 1\n",
      "\n",
      "Iteration time: 16.360150 s.\n",
      "________________________________\n",
      "Iteration #8:\n",
      "Number of new paths: 0\n",
      "\n",
      "Iteration time: 19.712316 s.\n",
      "No new paths, finishing...\n",
      "\n",
      "\n",
      "________________________________\n",
      "Total paths found: 60\n",
      "Number of iterations: #8\n",
      "\n",
      "Collecting time: 0.000618 s.\n",
      "Total time elapsed: 68.056548 s.\n",
      "________________________________\n",
      "\n",
      "\n"
     ]
    }
   ],
   "source": [
    "print(\"############# RDD: method 1 (single steps) ###############\")\n",
    "new_paths = edges\n",
    "all_paths = edges\n",
    "\n",
    "start = time.time()\n",
    "true_start = start\n",
    "\n",
    "# invariant:\n",
    "###  - all_paths and new_paths are on 'num_partitions' partitions\n",
    "\n",
    "last_count = all_paths.count()\n",
    "\n",
    "for i in range(1, max_iter):\n",
    "    print(\"________________________________\")\n",
    "    print(\"Iteration #%d:\" % (i,))\n",
    "    new_paths = compose(all_paths, edges)\n",
    "    # Leave only really new paths\n",
    "    all_paths = all_paths.union(new_paths).distinct()\n",
    "    \n",
    "    count = all_paths.count()\n",
    "    diff_count = count - last_count\n",
    "    last_count = count\n",
    "    print(\"Number of new paths: %d\\n\" % (diff_count,))\n",
    "    \n",
    "    if debug:\n",
    "        print(new_paths.take(1000), '\\n')\n",
    "        \n",
    "    end = time.time()\n",
    "    print(\"Iteration time: %f s.\" % (end - start,))\n",
    "    start = end\n",
    "    \n",
    "    # Finish, when no more paths added\n",
    "    if diff_count == 0:\n",
    "        print(\"No new paths, finishing...\")\n",
    "        break\n",
    "\n",
    "print(\"\\n\\n________________________________\")\n",
    "print(\"Total paths found: %d\" % (count,))\n",
    "print(\"Number of iterations: #%d\" % (i,))\n",
    "\n",
    "if debug:\n",
    "    print()\n",
    "    print(all_paths.take(1000), '\\n')\n",
    "\n",
    "true_end = time.time()\n",
    "method1_time = true_end - true_start\n",
    "print(\"\\nCollecting time: %f s.\" % (true_end - start,))\n",
    "print(\"Total time elapsed: %f s.\" % (method1_time,))\n",
    "print(\"________________________________\\n\\n\")"
   ]
  },
  {
   "cell_type": "code",
   "execution_count": 10,
   "metadata": {
    "collapsed": false
   },
   "outputs": [
    {
     "name": "stdout",
     "output_type": "stream",
     "text": [
      "############# DF: method 2 (single steps + delta + broadcast) ###############\n",
      "NUM e: 2\n",
      "NUM n: 2\n",
      "________________________________\n",
      "Iteration #1:\n",
      "Number of new paths: 13\n",
      "\n",
      "Iteration time: 1.067346 s.\n",
      "________________________________\n",
      "Iteration #2:\n",
      "Number of new paths: 13\n",
      "\n",
      "Iteration time: 1.747731 s.\n",
      "________________________________\n",
      "Iteration #3:\n",
      "Number of new paths: 7\n",
      "\n",
      "Iteration time: 1.425187 s.\n",
      "________________________________\n",
      "Iteration #4:\n",
      "Number of new paths: 6\n",
      "\n",
      "Iteration time: 2.132767 s.\n",
      "________________________________\n",
      "Iteration #5:\n",
      "Number of new paths: 5\n",
      "\n",
      "Iteration time: 3.154470 s.\n",
      "________________________________\n",
      "Iteration #6:\n",
      "Number of new paths: 4\n",
      "\n",
      "Iteration time: 4.883002 s.\n",
      "________________________________\n",
      "Iteration #7:\n",
      "Number of new paths: 1\n",
      "\n",
      "Iteration time: 4.492604 s.\n",
      "________________________________\n",
      "Iteration #8:\n",
      "Number of new paths: 0\n",
      "\n",
      "Iteration time: 5.697312 s.\n",
      "No new paths, finishing...\n",
      "\n",
      "\n",
      "________________________________\n",
      "Total paths found: 60\n",
      "Number of iterations: #8\n",
      "\n",
      "Collecting time: 0.158918 s.\n",
      "Total time elapsed: 24.759336 s.\n",
      "________________________________\n",
      "\n",
      "\n"
     ]
    }
   ],
   "source": [
    "print(\"############# DF: method 2 (single steps + delta + broadcast) ###############\")\n",
    "new_paths = edges\n",
    "all_paths = edges\n",
    "\n",
    "broadcast(edges)\n",
    "\n",
    "start = time.time()\n",
    "true_start = start\n",
    "\n",
    "print(\"NUM e:\", edges.rdd.getNumPartitions())\n",
    "print(\"NUM n:\", new_paths.rdd.getNumPartitions())\n",
    "\n",
    "# invariant:\n",
    "###  - all_paths and new_paths are on 'num_partitions' partitions\n",
    "\n",
    "last_count = all_paths.count()\n",
    "\n",
    "for i in range(1, max_iter):\n",
    "    print(\"________________________________\")\n",
    "    print(\"Iteration #%d:\" % (i,))\n",
    "    new_paths = compose(new_paths, edges)\n",
    "    # Leave only really new paths\n",
    "    all_paths = all_paths.union(new_paths).distinct()\n",
    "    \n",
    "    count = all_paths.count()\n",
    "    diff_count = count - last_count\n",
    "    last_count = count\n",
    "    print(\"Number of new paths: %d\\n\" % (diff_count,))\n",
    "    \n",
    "    if debug:\n",
    "        print(new_paths.take(1000), '\\n')\n",
    "        \n",
    "    end = time.time()\n",
    "    print(\"Iteration time: %f s.\" % (end - start,))\n",
    "    start = end\n",
    "    \n",
    "    # Finish, when no more paths added\n",
    "    if diff_count == 0:\n",
    "        print(\"No new paths, finishing...\")\n",
    "        break\n",
    "\n",
    "print(\"\\n\\n________________________________\")\n",
    "print(\"Total paths found: %d\" % (count,))\n",
    "print(\"Number of iterations: #%d\" % (i,))\n",
    "\n",
    "if debug:\n",
    "    print()\n",
    "    print(all_paths.take(1000), '\\n')\n",
    "\n",
    "true_end = time.time()\n",
    "method2_time = true_end - true_start\n",
    "print(\"\\nCollecting time: %f s.\" % (true_end - start,))\n",
    "print(\"Total time elapsed: %f s.\" % (method2_time,))\n",
    "print(\"________________________________\\n\\n\")"
   ]
  },
  {
   "cell_type": "code",
   "execution_count": 8,
   "metadata": {
    "collapsed": false
   },
   "outputs": [
    {
     "name": "stdout",
     "output_type": "stream",
     "text": [
      "############# RDD: method 3 (paths combining) ###############\n",
      "________________________________\n",
      "Iteration #1:\n",
      "Number of new paths: 13\n",
      "\n",
      "Iteration time: 2.571445 s.\n",
      "________________________________\n",
      "Iteration #2:\n",
      "Number of new paths: 20\n",
      "\n",
      "Iteration time: 1.738402 s.\n",
      "________________________________\n",
      "Iteration #3:\n",
      "Number of new paths: 16\n",
      "\n",
      "Iteration time: 3.878524 s.\n",
      "________________________________\n",
      "Iteration #4:\n",
      "Number of new paths: 0\n",
      "\n",
      "Iteration time: 7.332047 s.\n",
      "No new paths, finishing...\n",
      "\n",
      "\n",
      "________________________________\n",
      "Total paths found: 60\n",
      "Number of iterations: #4\n",
      "\n",
      "Collecting time: 0.000642 s.\n",
      "Total time elapsed: 15.521059 s.\n",
      "________________________________\n",
      "\n",
      "\n"
     ]
    }
   ],
   "source": [
    "print(\"############# RDD: method 3 (paths combining) ###############\")\n",
    "new_paths = edges\n",
    "all_paths = edges\n",
    "\n",
    "start = time.time()\n",
    "true_start = start\n",
    "\n",
    "# invariant:\n",
    "###  - all_paths and new_paths are on 'num_partitions' partitions\n",
    "\n",
    "last_count = all_paths.count()\n",
    "\n",
    "for i in range(1, max_iter):\n",
    "    print(\"________________________________\")\n",
    "    print(\"Iteration #%d:\" % (i,))\n",
    "    new_paths = compose(all_paths, all_paths)\n",
    "    # Leave only really new paths\n",
    "    all_paths = all_paths.union(new_paths).distinct().coalesce(num_partition)\n",
    "    \n",
    "    count = all_paths.count()\n",
    "    diff_count = count - last_count\n",
    "    last_count = count\n",
    "    print(\"Number of new paths: %d\\n\" % (diff_count,))\n",
    "    \n",
    "    if debug:\n",
    "        print(new_paths.take(1000), '\\n')\n",
    "        \n",
    "    end = time.time()\n",
    "    print(\"Iteration time: %f s.\" % (end - start,))\n",
    "    start = end\n",
    "    \n",
    "    # Finish, when no more paths added\n",
    "    if diff_count == 0:\n",
    "        print(\"No new paths, finishing...\")\n",
    "        break\n",
    "\n",
    "\n",
    "print(\"\\n\\n________________________________\")\n",
    "print(\"Total paths found: %d\" % (count,))\n",
    "print(\"Number of iterations: #%d\" % (i,))\n",
    "\n",
    "if debug:\n",
    "    print()\n",
    "    print(all_paths.take(1000), '\\n')\n",
    "\n",
    "true_end = time.time()\n",
    "method3_time = true_end - true_start\n",
    "print(\"\\nCollecting time: %f s.\" % (true_end - start,))\n",
    "print(\"Total time elapsed: %f s.\" % (method3_time,))\n",
    "print(\"________________________________\\n\\n\")"
   ]
  },
  {
   "cell_type": "code",
   "execution_count": null,
   "metadata": {
    "collapsed": false
   },
   "outputs": [],
   "source": [
    "print(\"########### Summary ############\")\n",
    "print(\"Method 1: %f s.\" % (method1_time,))\n",
    "print(\"Method 2: %f s.\" % (method2_time,))\n",
    "print(\"Method 2: %f s.\" % (method3_time,))"
   ]
  },
  {
   "cell_type": "code",
   "execution_count": null,
   "metadata": {
    "collapsed": true
   },
   "outputs": [],
   "source": []
  }
 ],
 "metadata": {
  "kernelspec": {
   "display_name": "Python 3",
   "language": "python",
   "name": "python3"
  }
 },
 "nbformat": 4,
 "nbformat_minor": 0
}
