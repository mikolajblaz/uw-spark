{
 "cells": [
  {
   "cell_type": "code",
   "execution_count": 1,
   "metadata": {
    "collapsed": false
   },
   "outputs": [],
   "source": [
    "from pyspark.sql import SparkSession"
   ]
  },
  {
   "cell_type": "code",
   "execution_count": 47,
   "metadata": {
    "collapsed": true
   },
   "outputs": [],
   "source": [
    "file = \"data/test-graph.txt\"\n",
    "max_iter = 100"
   ]
  },
  {
   "cell_type": "code",
   "execution_count": 18,
   "metadata": {
    "collapsed": false
   },
   "outputs": [
    {
     "data": {
      "text/plain": [
       "16"
      ]
     },
     "execution_count": 18,
     "metadata": {},
     "output_type": "execute_result"
    }
   ],
   "source": [
    "# Load the data\n",
    "textFile = sc.textFile(file)\n",
    "textFile.count()"
   ]
  },
  {
   "cell_type": "code",
   "execution_count": 19,
   "metadata": {
    "collapsed": false
   },
   "outputs": [
    {
     "data": {
      "text/plain": [
       "11"
      ]
     },
     "execution_count": 19,
     "metadata": {},
     "output_type": "execute_result"
    }
   ],
   "source": [
    "dataFile = textFile.filter(lambda l: len(l) > 0 and l[0] != '#')\n",
    "dataFile.count()"
   ]
  },
  {
   "cell_type": "code",
   "execution_count": 36,
   "metadata": {
    "collapsed": false
   },
   "outputs": [
    {
     "data": {
      "text/plain": [
       "pyspark.rdd.PipelinedRDD"
      ]
     },
     "execution_count": 36,
     "metadata": {},
     "output_type": "execute_result"
    }
   ],
   "source": [
    "def to_tuple(line, delim='\\t'):\n",
    "    strings = line.split(delim)[:2]\n",
    "    return (strings[0], strings[1])\n",
    "    \n",
    "edges = dataFile.map(to_tuple)\n",
    "edges.setName('Edges')\n",
    "assert edges.filter(lambda t: len(t) == 2).count() == dataFile.count()\n",
    "type(edges)"
   ]
  },
  {
   "cell_type": "code",
   "execution_count": 44,
   "metadata": {
    "collapsed": false
   },
   "outputs": [
    {
     "name": "stdout",
     "output_type": "stream",
     "text": [
      "###########\n",
      "('3', '5')\n",
      "('9', '6')\n",
      "('2', '4')\n",
      "('5', '7')\n",
      "('5', '8')\n",
      "('5', '9')\n",
      "('10', '7')\n",
      "('10', '8')\n",
      "('10', '9')\n",
      "('6', '10')\n",
      "('0', '2')\n",
      "('4', '6')\n",
      "('1', '3')\n",
      "###########\n",
      "('2', '5')\n",
      "('1', '4')\n",
      "('0', '3')\n",
      "('6', '6')\n",
      "('5', '10')\n",
      "('10', '10')\n",
      "('3', '6')\n",
      "('9', '7')\n",
      "('9', '8')\n",
      "('9', '9')\n",
      "('4', '7')\n",
      "('4', '8')\n",
      "('4', '9')\n",
      "###########\n",
      "('1', '5')\n",
      "('5', '6')\n",
      "('10', '6')\n",
      "('9', '10')\n",
      "('4', '10')\n",
      "('2', '6')\n",
      "('0', '4')\n",
      "('6', '7')\n",
      "('6', '8')\n",
      "('6', '9')\n",
      "('3', '7')\n",
      "('3', '8')\n",
      "('3', '9')\n",
      "###########\n",
      "('9', '6')\n",
      "('4', '6')\n",
      "('5', '7')\n",
      "('5', '8')\n",
      "('5', '9')\n",
      "('10', '7')\n",
      "('10', '8')\n",
      "('10', '9')\n",
      "('2', '7')\n",
      "('2', '8')\n",
      "('2', '9')\n",
      "('0', '5')\n",
      "('6', '10')\n",
      "('3', '10')\n",
      "('1', '6')\n"
     ]
    }
   ],
   "source": [
    "def switch_key_value(kv):\n",
    "    return (kv[1], kv[0])\n",
    "\n",
    "def compose(r1, r2):\n",
    "    \"\"\" Compose 2 relations represented by PairRDDs. \"\"\"\n",
    "    r1_flip = r1.map(switch_key_value)\n",
    "    joined = r1_flip.join(r2)\n",
    "    return joined.values()\n",
    "\n",
    "paths = edges\n",
    "for i in range(4):\n",
    "    print(\"###########\")\n",
    "    paths = compose(paths, edges)\n",
    "    for p in paths.collect():\n",
    "        print(p)"
   ]
  },
  {
   "cell_type": "code",
   "execution_count": 48,
   "metadata": {
    "collapsed": false
   },
   "outputs": [
    {
     "name": "stdout",
     "output_type": "stream",
     "text": [
      "###########\n",
      "('5', '7')\n",
      "('10', '9')\n",
      "('9', '6')\n",
      "('2', '4')\n",
      "('1', '3')\n",
      "('5', '8')\n",
      "('0', '2')\n",
      "('5', '9')\n",
      "('10', '7')\n",
      "('6', '10')\n",
      "('10', '8')\n",
      "('3', '5')\n",
      "('4', '6')\n",
      "###########\n",
      "('5', '10')\n",
      "('4', '7')\n",
      "('6', '6')\n",
      "('9', '8')\n",
      "('9', '9')\n",
      "('9', '7')\n",
      "('2', '5')\n",
      "('1', '4')\n",
      "('10', '10')\n",
      "('0', '3')\n",
      "('4', '9')\n",
      "('3', '6')\n",
      "('4', '8')\n",
      "###########\n",
      "('4', '10')\n",
      "('0', '4')\n",
      "('3', '8')\n",
      "('3', '7')\n",
      "('1', '5')\n",
      "('2', '6')\n",
      "('3', '9')\n",
      "###########\n",
      "('2', '9')\n",
      "('1', '6')\n",
      "('0', '5')\n",
      "('2', '8')\n",
      "('3', '10')\n",
      "('2', '7')\n",
      "###########\n",
      "('1', '8')\n",
      "('2', '10')\n",
      "('1', '9')\n",
      "('1', '7')\n",
      "('0', '6')\n",
      "###########\n",
      "('1', '10')\n",
      "('0', '8')\n",
      "('0', '9')\n",
      "('0', '7')\n",
      "###########\n",
      "('0', '10')\n",
      "###########\n",
      "$$$$$$$$$$$$$ ALL PATHS $$$$$$$$$$$$$$\n",
      "('0', '1')\n",
      "('1', '2')\n",
      "('2', '3')\n",
      "('3', '4')\n",
      "('4', '5')\n",
      "('5', '6')\n",
      "('6', '7')\n",
      "('6', '8')\n",
      "('6', '9')\n",
      "('9', '10')\n",
      "('10', '6')\n",
      "('5', '7')\n",
      "('10', '9')\n",
      "('9', '6')\n",
      "('2', '4')\n",
      "('1', '3')\n",
      "('5', '8')\n",
      "('0', '2')\n",
      "('5', '9')\n",
      "('10', '7')\n",
      "('6', '10')\n",
      "('10', '8')\n",
      "('3', '5')\n",
      "('4', '6')\n",
      "('5', '10')\n",
      "('4', '7')\n",
      "('6', '6')\n",
      "('9', '8')\n",
      "('9', '9')\n",
      "('9', '7')\n",
      "('2', '5')\n",
      "('1', '4')\n",
      "('10', '10')\n",
      "('0', '3')\n",
      "('4', '9')\n",
      "('3', '6')\n",
      "('4', '8')\n",
      "('4', '10')\n",
      "('0', '4')\n",
      "('3', '8')\n",
      "('3', '7')\n",
      "('1', '5')\n",
      "('2', '6')\n",
      "('3', '9')\n",
      "('2', '9')\n",
      "('1', '6')\n",
      "('0', '5')\n",
      "('2', '8')\n",
      "('3', '10')\n",
      "('2', '7')\n",
      "('1', '8')\n",
      "('2', '10')\n",
      "('1', '9')\n",
      "('1', '7')\n",
      "('0', '6')\n",
      "('1', '10')\n",
      "('0', '8')\n",
      "('0', '9')\n",
      "('0', '7')\n",
      "('0', '10')\n"
     ]
    }
   ],
   "source": [
    "paths = edges\n",
    "all_paths = edges\n",
    "for i in range(max_iter):\n",
    "    print(\"###########\")\n",
    "    paths = compose(paths, edges)\n",
    "    # Leave only new paths\n",
    "    paths = paths.subtract(all_paths)\n",
    "    # Finish, when no more paths added\n",
    "    if paths.isEmpty():\n",
    "        break\n",
    "    \n",
    "    # Add new paths to all paths\n",
    "    all_paths = all_paths.union(paths)\n",
    "    \n",
    "    for p in paths.collect():\n",
    "        print(p)\n",
    "\n",
    "        \n",
    "print(\"$$$$$$$$$$$$$ ALL PATHS $$$$$$$$$$$$$$\")\n",
    "for p in all_paths.collect():\n",
    "        print(p)"
   ]
  },
  {
   "cell_type": "code",
   "execution_count": null,
   "metadata": {
    "collapsed": true
   },
   "outputs": [],
   "source": []
  }
 ],
 "metadata": {
  "kernelspec": {
   "display_name": "Python 3",
   "language": "python",
   "name": "python3"
  },
  "language_info": {
   "codemirror_mode": {
    "name": "ipython",
    "version": 3
   },
   "file_extension": ".py",
   "mimetype": "text/x-python",
   "name": "python",
   "nbconvert_exporter": "python",
   "pygments_lexer": "ipython3",
   "version": "3.5.1"
  }
 },
 "nbformat": 4,
 "nbformat_minor": 0
}
